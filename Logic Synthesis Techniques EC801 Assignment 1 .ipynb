{
 "cells": [
  {
   "cell_type": "markdown",
   "id": "f64a7ba3",
   "metadata": {},
   "source": [
    "## Vishnu Bharadwaj M N - 211EE163\n",
    "## Assignment 1 - Logic Synthesis Techniques (EC801)"
   ]
  },
  {
   "cell_type": "code",
   "execution_count": 1,
   "id": "02325015",
   "metadata": {},
   "outputs": [],
   "source": [
    "import sympy as sp\n",
    "from sympy.logic.boolalg import Or, And, Not"
   ]
  },
  {
   "cell_type": "code",
   "execution_count": 6,
   "id": "025aa020",
   "metadata": {},
   "outputs": [],
   "source": [
    "# Cofactors\n",
    "def get_cofactors(expr, var):\n",
    "    cofactor_pos = expr.subs(var, True)\n",
    "    cofactor_neg = expr.subs(var, False)\n",
    "    return cofactor_pos, cofactor_neg\n",
    "\n",
    "# Boolean Difference\n",
    "def boolean_difference(expr, var):  # Boolean difference is obtained by performing XOR operation\n",
    "    return sp.simplify(expr.subs(var, True) ^ expr.subs(var, False))\n",
    "\n",
    "# Consensus\n",
    "def consensus(expr, var):  # Consensus is obtained by AND operation of 2 cofactors (positive and negative)\n",
    "    return sp.simplify(sp.And(expr.subs(var, True), expr.subs(var, False)))\n",
    "\n",
    "# Smoothing\n",
    "def smoothing(expr, var):  # Smoothing is basically the sum of 2 cofactors (positive and negative)\n",
    "    return sp.simplify(sp.Or(expr.subs(var, True), expr.subs(var, False)))"
   ]
  },
  {
   "cell_type": "code",
   "execution_count": 7,
   "id": "c9dd8934",
   "metadata": {},
   "outputs": [
    {
     "name": "stdout",
     "output_type": "stream",
     "text": [
      "Enter the Boolean variables separated by spaces (e.g., a b c d): a b c d\n",
      "Use & for AND, | for OR, ~ for NOT (e.g., a & b | ~c)\n",
      "Enter the Boolean expression in SoP form: a&b&~c&~d | ~b&c&a | ~a&~c&~d | ~a&~d\n",
      "Enter the variable for cofactor, difference, etc: c\n",
      "Positive cofactor of (~a & ~d) | (a & c & ~b) | (~a & ~c & ~d) | (a & b & ~c & ~d) with respect to c: (a & ~b) | (~a & ~d)\n",
      "Negative cofactor of (~a & ~d) | (a & c & ~b) | (~a & ~c & ~d) | (a & b & ~c & ~d) with respect to c: (~a & ~d) | (a & b & ~d)\n",
      "Boolean Difference of (~a & ~d) | (a & c & ~b) | (~a & ~c & ~d) | (a & b & ~c & ~d) with respect to c: (~d & (b | ~a)) ^ ((a & ~b) | (~a & ~d))\n",
      "Consensus of (~a & ~d) | (a & c & ~b) | (~a & ~c & ~d) | (a & b & ~c & ~d) with respect to c: ~a & ~d\n",
      "Smoothing of (~a & ~d) | (a & c & ~b) | (~a & ~c & ~d) | (a & b & ~c & ~d) with respect to c: ~d | (a & ~b)\n"
     ]
    }
   ],
   "source": [
    "# Main\n",
    "def process_boolean_expression():\n",
    "    \n",
    "    # The user gets to determine how many variables they want to use for the boolean expression \n",
    "    variables_str = input(\"Enter the Boolean variables separated by spaces (e.g., a b c d): \")\n",
    "    variables = sp.symbols(variables_str)  # Creates the symbols for the variables\n",
    "    \n",
    "    # Taking input for the Boolean expression\n",
    "    print(\"Use & for AND, | for OR, ~ for NOT (e.g., a & b | ~c)\")\n",
    "    expr_str = input(\"Enter the Boolean expression in SoP form: \")\n",
    "    \n",
    "    # Converting the string input to a sympy Boolean expression\n",
    "    try:\n",
    "        expr = sp.sympify(expr_str, evaluate=False)  # Convert string to Boolean expression\n",
    "    except sp.SympifyError as e:\n",
    "        print(f\"Error parsing the Boolean expression: {e}\")\n",
    "        return\n",
    "    \n",
    "    # Variable input for performing operations\n",
    "    var_str = input(\"Enter the variable for cofactor, difference, etc: \")\n",
    "    var = sp.symbols(var_str)\n",
    "\n",
    "    # Obtaining Cofactors\n",
    "    cofactor_pos, cofactor_neg = get_cofactors(expr, var)\n",
    "    print(f\"Positive cofactor of {expr} with respect to {var}: {cofactor_pos}\")\n",
    "    print(f\"Negative cofactor of {expr} with respect to {var}: {cofactor_neg}\")\n",
    "    \n",
    "    # Boolean Difference\n",
    "    diff = boolean_difference(expr, var)\n",
    "    print(f\"Boolean Difference of {expr} with respect to {var}: {diff}\")\n",
    "    \n",
    "    # Consensus\n",
    "    cons = consensus(expr, var)\n",
    "    print(f\"Consensus of {expr} with respect to {var}: {cons}\")\n",
    "    \n",
    "    # Smoothing\n",
    "    smooth = smoothing(expr, var)\n",
    "    print(f\"Smoothing of {expr} with respect to {var}: {smooth}\")\n",
    "\n",
    "# Run the main program\n",
    "if __name__ == \"__main__\":\n",
    "    process_boolean_expression()"
   ]
  }
 ],
 "metadata": {
  "kernelspec": {
   "display_name": "Python 3 (ipykernel)",
   "language": "python",
   "name": "python3"
  },
  "language_info": {
   "codemirror_mode": {
    "name": "ipython",
    "version": 3
   },
   "file_extension": ".py",
   "mimetype": "text/x-python",
   "name": "python",
   "nbconvert_exporter": "python",
   "pygments_lexer": "ipython3",
   "version": "3.9.18"
  }
 },
 "nbformat": 4,
 "nbformat_minor": 5
}
